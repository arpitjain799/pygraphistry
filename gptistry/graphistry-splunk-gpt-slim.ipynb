{
 "cells": [
  {
   "cell_type": "code",
   "execution_count": 1,
   "id": "dd14a2c7",
   "metadata": {},
   "outputs": [],
   "source": [
    "import sys\n",
    "sys.path.append('/Users/exrhizo/Projects/graphistry/pygraphistry')"
   ]
  },
  {
   "cell_type": "code",
   "execution_count": 2,
   "id": "e6499ffc",
   "metadata": {},
   "outputs": [],
   "source": [
    "\n",
    "import numpy as np\n",
    "import graphistry\n",
    "#from graphistry.compute.chat_utils import *\n",
    "from graphistry.compute.ai.symbolic import *\n",
    "\n",
    "import pandas as pd\n",
    "import os\n",
    "\n",
    "graphistry.register(api=3, protocol=\"https\", server=\"hub.graphistry.com\", username=os.environ['USERNAME'], password=os.environ['GRAPHISTRY_PASSWORD']) "
   ]
  },
  {
   "cell_type": "code",
   "execution_count": 3,
   "id": "741f90c3",
   "metadata": {},
   "outputs": [],
   "source": [
    "query = 'write a splunk query for the index `redteam_50k` that uses the src and dst information \\\n",
    "to output a table for events where red=1'"
   ]
  },
  {
   "cell_type": "code",
   "execution_count": 4,
   "id": "24d92fa5",
   "metadata": {},
   "outputs": [],
   "source": [
    "query2 = 'write a splunk query that uses the src and dst information \\\n",
    "to output a table for events and \\\n",
    "include any fields similar to time and place if they exist in the data'"
   ]
  },
  {
   "cell_type": "code",
   "execution_count": 5,
   "id": "05b11509",
   "metadata": {},
   "outputs": [],
   "source": [
    "query3 = 'write a splunk query that uses the src and dst information \\\n",
    "to output a table for events where auth_type is equal to Kerberos'"
   ]
  },
  {
   "cell_type": "code",
   "execution_count": 6,
   "id": "e0a32307",
   "metadata": {},
   "outputs": [],
   "source": [
    "g = graphistry.bind()\n",
    "# query to graph \n",
    "g2 = g.ai(query)"
   ]
  },
  {
   "cell_type": "code",
   "execution_count": 25,
   "id": "60aee2a6",
   "metadata": {},
   "outputs": [
    {
     "data": {
      "text/html": [
       "<div class=\"alert alert-success\" role=\"alert\">\n",
       "  index=redteam_50k red=1 | table src, dst\n",
       "</div>"
      ],
      "text/plain": [
       "<class 'symai.symbol.Expression'>(value=index=redteam_50k red=1 | table src, dst)"
      ]
     },
     "execution_count": 25,
     "metadata": {},
     "output_type": "execute_result"
    }
   ],
   "source": [
    "g2"
   ]
  },
  {
   "cell_type": "code",
   "execution_count": 24,
   "id": "b99faa4d",
   "metadata": {
    "scrolled": false
   },
   "outputs": [
    {
     "ename": "AttributeError",
     "evalue": "'str' object has no attribute 'plot'",
     "output_type": "error",
     "traceback": [
      "\u001b[0;31m---------------------------------------------------------------------------\u001b[0m",
      "\u001b[0;31mAttributeError\u001b[0m                            Traceback (most recent call last)",
      "Cell \u001b[0;32mIn[24], line 1\u001b[0m\n\u001b[0;32m----> 1\u001b[0m g2\u001b[39m.\u001b[39;49mplot()  \u001b[39m# all red events\u001b[39;00m\n",
      "File \u001b[0;32m~/miniconda3/envs/pygraph/lib/python3.8/site-packages/symai/symbol.py:99\u001b[0m, in \u001b[0;36mSymbol.__getattr__\u001b[0;34m(self, key)\u001b[0m\n\u001b[1;32m     97\u001b[0m \u001b[39mdef\u001b[39;00m \u001b[39m__getattr__\u001b[39m(\u001b[39mself\u001b[39m, key):\n\u001b[1;32m     98\u001b[0m     \u001b[39mif\u001b[39;00m \u001b[39mnot\u001b[39;00m \u001b[39mself\u001b[39m\u001b[39m.\u001b[39m\u001b[39m__dict__\u001b[39m\u001b[39m.\u001b[39m\u001b[39m__contains__\u001b[39m(key):\n\u001b[0;32m---> 99\u001b[0m         \u001b[39mreturn\u001b[39;00m \u001b[39mgetattr\u001b[39;49m(\u001b[39mself\u001b[39;49m\u001b[39m.\u001b[39;49mvalue, key)\n\u001b[1;32m    100\u001b[0m     \u001b[39mreturn\u001b[39;00m \u001b[39mself\u001b[39m\u001b[39m.\u001b[39m\u001b[39m__dict__\u001b[39m[key]\n",
      "\u001b[0;31mAttributeError\u001b[0m: 'str' object has no attribute 'plot'"
     ]
    }
   ],
   "source": [
    "g2.plot()  # all red events"
   ]
  },
  {
   "cell_type": "code",
   "execution_count": null,
   "id": "372b50dd",
   "metadata": {},
   "outputs": [],
   "source": []
  },
  {
   "cell_type": "code",
   "execution_count": null,
   "id": "33620185",
   "metadata": {},
   "outputs": [],
   "source": [
    "## query 2"
   ]
  },
  {
   "cell_type": "code",
   "execution_count": 26,
   "id": "852913ee",
   "metadata": {},
   "outputs": [
    {
     "ename": "AttributeError",
     "evalue": "'str' object has no attribute 'plot'",
     "output_type": "error",
     "traceback": [
      "\u001b[0;31m---------------------------------------------------------------------------\u001b[0m",
      "\u001b[0;31mAttributeError\u001b[0m                            Traceback (most recent call last)",
      "Cell \u001b[0;32mIn[26], line 1\u001b[0m\n\u001b[0;32m----> 1\u001b[0m g\u001b[39m.\u001b[39;49mai(query2)\u001b[39m.\u001b[39;49mplot()\n",
      "File \u001b[0;32m~/miniconda3/envs/pygraph/lib/python3.8/site-packages/symai/symbol.py:99\u001b[0m, in \u001b[0;36mSymbol.__getattr__\u001b[0;34m(self, key)\u001b[0m\n\u001b[1;32m     97\u001b[0m \u001b[39mdef\u001b[39;00m \u001b[39m__getattr__\u001b[39m(\u001b[39mself\u001b[39m, key):\n\u001b[1;32m     98\u001b[0m     \u001b[39mif\u001b[39;00m \u001b[39mnot\u001b[39;00m \u001b[39mself\u001b[39m\u001b[39m.\u001b[39m\u001b[39m__dict__\u001b[39m\u001b[39m.\u001b[39m\u001b[39m__contains__\u001b[39m(key):\n\u001b[0;32m---> 99\u001b[0m         \u001b[39mreturn\u001b[39;00m \u001b[39mgetattr\u001b[39;49m(\u001b[39mself\u001b[39;49m\u001b[39m.\u001b[39;49mvalue, key)\n\u001b[1;32m    100\u001b[0m     \u001b[39mreturn\u001b[39;00m \u001b[39mself\u001b[39m\u001b[39m.\u001b[39m\u001b[39m__dict__\u001b[39m[key]\n",
      "\u001b[0;31mAttributeError\u001b[0m: 'str' object has no attribute 'plot'"
     ]
    }
   ],
   "source": [
    "g.ai(query2).plot()"
   ]
  },
  {
   "cell_type": "code",
   "execution_count": null,
   "id": "f9cf9672",
   "metadata": {},
   "outputs": [],
   "source": [
    "#g.ai(query3).plot()"
   ]
  },
  {
   "cell_type": "markdown",
   "id": "d8dc6630",
   "metadata": {},
   "source": [
    "## Check to see that it understands the difference between splunk and normal queries"
   ]
  },
  {
   "cell_type": "code",
   "execution_count": 8,
   "id": "d25a38f0",
   "metadata": {},
   "outputs": [],
   "source": [
    "g3 = g.ai('What is the capital of Norway?')"
   ]
  },
  {
   "cell_type": "code",
   "execution_count": 9,
   "id": "5bc47acc",
   "metadata": {},
   "outputs": [
    {
     "data": {
      "text/html": [
       "<div class=\"alert alert-success\" role=\"alert\">\n",
       "  Oslo\n",
       "</div>"
      ],
      "text/plain": [
       "<class 'symai.symbol.Expression'>(value=Oslo)"
      ]
     },
     "execution_count": 9,
     "metadata": {},
     "output_type": "execute_result"
    }
   ],
   "source": [
    "g3"
   ]
  },
  {
   "cell_type": "markdown",
   "id": "020e928c",
   "metadata": {},
   "source": []
  },
  {
   "cell_type": "markdown",
   "id": "1abb2ed1",
   "metadata": {},
   "source": [
    "## Getting into the details"
   ]
  },
  {
   "cell_type": "code",
   "execution_count": 10,
   "id": "873c1dcc",
   "metadata": {},
   "outputs": [
    {
     "data": {
      "text/html": [
       "<div class=\"alert alert-success\" role=\"alert\">\n",
       "  None\n",
       "</div>"
      ],
      "text/plain": [
       "<class 'graphistry.compute.ai.symbolic.SplunkAIGraph'>(value=None)"
      ]
     },
     "execution_count": 10,
     "metadata": {},
     "output_type": "execute_result"
    }
   ],
   "source": [
    "sym = SplunkAIGraph('redteam_50k')\n",
    "sym"
   ]
  },
  {
   "cell_type": "code",
   "execution_count": 18,
   "id": "ee2ec52d",
   "metadata": {},
   "outputs": [
    {
     "name": "stdout",
     "output_type": "stream",
     "text": [
      "100.0%   19762 scanned   19762 matched   28 results\n",
      "Done!\n",
      "len results 28\n",
      "Generated splunk context\n"
     ]
    }
   ],
   "source": [
    "sym.connect(\"exrhizo\", \"XdC*-Hex.jdNBX4UH83p\", \"splunk.graphistry.com\")"
   ]
  },
  {
   "cell_type": "code",
   "execution_count": 19,
   "id": "65c5ddf6",
   "metadata": {},
   "outputs": [
    {
     "name": "stdout",
     "output_type": "stream",
     "text": [
      "100.0%   749 scanned   749 matched   749 results\n",
      "Done!\n",
      "len results 749\n",
      "context ***Found Data:\n",
      "  src_computer dst_computer timestamp\n",
      "0       C19932         C108      none\n",
      "1       C17693         C828      none\n",
      "2       C17693         C828      none\n",
      "3       C17693         C828      none\n",
      "4       C17693         C828      none\n",
      "------------------------------\n",
      "--Added a successful memory: write a splunk query for the index `redteam_50k` that uses the src and dst information to output a table for events where red=1\n"
     ]
    },
    {
     "data": {
      "text/html": [
       "<div>\n",
       "<style scoped>\n",
       "    .dataframe tbody tr th:only-of-type {\n",
       "        vertical-align: middle;\n",
       "    }\n",
       "\n",
       "    .dataframe tbody tr th {\n",
       "        vertical-align: top;\n",
       "    }\n",
       "\n",
       "    .dataframe thead th {\n",
       "        text-align: right;\n",
       "    }\n",
       "</style>\n",
       "<table border=\"1\" class=\"dataframe\">\n",
       "  <thead>\n",
       "    <tr style=\"text-align: right;\">\n",
       "      <th></th>\n",
       "      <th>src_computer</th>\n",
       "      <th>dst_computer</th>\n",
       "      <th>timestamp</th>\n",
       "    </tr>\n",
       "  </thead>\n",
       "  <tbody>\n",
       "    <tr>\n",
       "      <th>0</th>\n",
       "      <td>C19932</td>\n",
       "      <td>C108</td>\n",
       "      <td>none</td>\n",
       "    </tr>\n",
       "    <tr>\n",
       "      <th>1</th>\n",
       "      <td>C17693</td>\n",
       "      <td>C828</td>\n",
       "      <td>none</td>\n",
       "    </tr>\n",
       "    <tr>\n",
       "      <th>2</th>\n",
       "      <td>C17693</td>\n",
       "      <td>C828</td>\n",
       "      <td>none</td>\n",
       "    </tr>\n",
       "    <tr>\n",
       "      <th>3</th>\n",
       "      <td>C17693</td>\n",
       "      <td>C828</td>\n",
       "      <td>none</td>\n",
       "    </tr>\n",
       "    <tr>\n",
       "      <th>4</th>\n",
       "      <td>C17693</td>\n",
       "      <td>C828</td>\n",
       "      <td>none</td>\n",
       "    </tr>\n",
       "    <tr>\n",
       "      <th>...</th>\n",
       "      <td>...</td>\n",
       "      <td>...</td>\n",
       "      <td>...</td>\n",
       "    </tr>\n",
       "    <tr>\n",
       "      <th>744</th>\n",
       "      <td>C17693</td>\n",
       "      <td>C294</td>\n",
       "      <td>none</td>\n",
       "    </tr>\n",
       "    <tr>\n",
       "      <th>745</th>\n",
       "      <td>C17693</td>\n",
       "      <td>C1173</td>\n",
       "      <td>none</td>\n",
       "    </tr>\n",
       "    <tr>\n",
       "      <th>746</th>\n",
       "      <td>C17693</td>\n",
       "      <td>C728</td>\n",
       "      <td>none</td>\n",
       "    </tr>\n",
       "    <tr>\n",
       "      <th>747</th>\n",
       "      <td>C17693</td>\n",
       "      <td>C305</td>\n",
       "      <td>none</td>\n",
       "    </tr>\n",
       "    <tr>\n",
       "      <th>748</th>\n",
       "      <td>C17693</td>\n",
       "      <td>C1003</td>\n",
       "      <td>none</td>\n",
       "    </tr>\n",
       "  </tbody>\n",
       "</table>\n",
       "<p>749 rows × 3 columns</p>\n",
       "</div>"
      ],
      "text/plain": [
       "    src_computer dst_computer timestamp\n",
       "0         C19932         C108      none\n",
       "1         C17693         C828      none\n",
       "2         C17693         C828      none\n",
       "3         C17693         C828      none\n",
       "4         C17693         C828      none\n",
       "..           ...          ...       ...\n",
       "744       C17693         C294      none\n",
       "745       C17693        C1173      none\n",
       "746       C17693         C728      none\n",
       "747       C17693         C305      none\n",
       "748       C17693        C1003      none\n",
       "\n",
       "[749 rows x 3 columns]"
      ]
     },
     "execution_count": 19,
     "metadata": {},
     "output_type": "execute_result"
    }
   ],
   "source": [
    "sym.splunk_search(query)"
   ]
  },
  {
   "cell_type": "code",
   "execution_count": null,
   "id": "0840901a",
   "metadata": {},
   "outputs": [],
   "source": [
    "sym.get_context('trump', all_indexes=True)"
   ]
  },
  {
   "cell_type": "code",
   "execution_count": 20,
   "id": "27e6df00",
   "metadata": {},
   "outputs": [
    {
     "data": {
      "text/plain": [
       "\"You are working with the index `redteam_50k` and the following fields: ['RED', 'auth_type', 'authentication_orientation', 'dst_computer', 'dst_domain', 'eventtype', 'extracted_index', 'feats', 'feats2', 'host', 'index', 'linecount', 'logontype', 'node', 'punct', 'source', 'sourcetype', 'splunk_server', 'splunk_server_group', 'src_computer', 'src_domain', 'success_or_failure', 'tag', 'tag::eventtype', 'time', 'timestamp', 'unix_category', 'unix_group'] You may also use the following indexes: dict_keys(['_audit', '_internal', '_introspection', '_telemetry', '_thefishbucket', 'accenture', 'accenture-labs', 'achp', 'alert_graph_demo', 'anons_bad_day', 'anonsbadday', 'arcsight2', 'arcsightcsv', 'attck', 'auth1m', 'bahamas_papers', 'bitcointransaction', 'cim_modactions', 'cisco', 'corelight_tutorial', 'creditone', 'cylance_test', 'deletemedemo', 'dvd', 'dvd_debug', 'dvd_fraud', 'dvd_fraud_tp', 'dvdtmx', 'event_gen', 'fct-demo', 'femsa1', 'findsearch', 'gen', 'gen_anon', 'graphistry_apps', 'graphistry_hub', 'health_demo', 'health_demo_2', 'history', 'jerry-7sept', 'kamal', 'kamal2', 'main', 'marketplace', 'marketplace_stats', 'marvel', 'miserables', 'mordor', 'ms_dcu', 'network_streams', 'nvda_15min', 'nvda_20171222', 'nvda_360_jerrychang', 'nvda_360_orefc', 'nvda_fe_nx_3831559', 'nvidia-internal-1', 'nvidia-internal-1b', 'nvidia-internal-1c', 'nvidia-internal-1d', 'nvidia-internal-2', 'nvidia-internal-3', 'nvidia_15min', 'nvidia_jerry_fe_nx', 'nvidia_symantec_kv', 'offshoreleaks', 'panama', 'pcap-isc-forensic-challenge-2021-12', 'pivotapp_imports', 'poc_events_one', 'poc_events_three', 'rbc_poc1', 'redteam_50k', 'redteam_out', 'rita-flights-csv', 'riverbed', 'sandbox', 'servicenow', 'sflow_example', 'shoelace', 'splunklogger', 'summary', 'tenable', 'testdockeringest', 'testdockeringest2', 'trump', 'trump2', 'trump_person_person', 'trumppersonperson', 'unix_summary', 'vast', 'verifone1', 'viasat', 'wls_5m'])\""
      ]
     },
     "execution_count": 20,
     "metadata": {},
     "output_type": "execute_result"
    }
   ],
   "source": [
    "sym._splunk_context"
   ]
  },
  {
   "cell_type": "code",
   "execution_count": null,
   "id": "51a76073",
   "metadata": {},
   "outputs": [],
   "source": [
    "sym._static_context"
   ]
  },
  {
   "cell_type": "code",
   "execution_count": null,
   "id": "724bce4d",
   "metadata": {},
   "outputs": [],
   "source": [
    "sym.splunk._static_context"
   ]
  },
  {
   "cell_type": "code",
   "execution_count": null,
   "id": "5db87f28",
   "metadata": {},
   "outputs": [],
   "source": [
    "sym.index"
   ]
  },
  {
   "cell_type": "code",
   "execution_count": null,
   "id": "266d1b01",
   "metadata": {},
   "outputs": [],
   "source": [
    "list(sym.indexes.keys())"
   ]
  },
  {
   "cell_type": "markdown",
   "id": "50d3bff9",
   "metadata": {},
   "source": [
    "# Add a straight splunk query\n",
    "It will reason about the input, as shown below"
   ]
  },
  {
   "cell_type": "code",
   "execution_count": 27,
   "id": "deacb420",
   "metadata": {},
   "outputs": [
    {
     "name": "stdout",
     "output_type": "stream",
     "text": [
      "HTTP 400 Bad Request -- Unknown search command 'action'.\n",
      "context !!The following SPL query returned no results: action=login | Where RED=1\n",
      "Empty DataFrame\n",
      "Columns: []\n",
      "Index: []\n",
      "100.0%   0 scanned   0 matched   0 results\n",
      "Done!\n",
      "----------------------------------------\n",
      "new splunk, who dis?\n",
      "\t search index=\"redteam_50k\" RED=1 auth_type=login | Table src_computer, dst_computer, success_or_failure, timestamp \n",
      "\n",
      "context !!The following SPL query returned no results: search index=\"redteam_50k\" RED=1 auth_type=login | Table src_computer, dst_computer, success_or_failure, timestamp\n",
      "Empty DataFrame\n",
      "Columns: []\n",
      "Index: []\n",
      "100.0%   0 scanned   0 matched   0 results\n",
      "Done!\n",
      "----------------------------------------\n",
      "new splunk, who dis?\n",
      "\t search index=\"redteam_50k\" RED=1 auth_type=login success_or_failure!=\"\" | Table src_computer, dst_computer, success_or_failure, timestamp \n",
      "\n",
      "context !!The following SPL query returned no results: search index=\"redteam_50k\" RED=1 auth_type=login success_or_failure!=\"\" | Table src_computer, dst_computer, success_or_failure, timestamp\n",
      "Empty DataFrame\n",
      "Columns: []\n",
      "Index: []\n",
      "\n",
      "\n",
      "We timed out on Neural Cycles, maybe next time?\n",
      "------------------------------\n",
      "--Added a failed memory: | search index=\"redteam_50k\" | Table src_computer, dst_computer\n"
     ]
    }
   ],
   "source": [
    "gg = sym.splunk_search('| search index=\"redteam_50k\" | Table src_computer, dst_computer')"
   ]
  },
  {
   "cell_type": "code",
   "execution_count": 28,
   "id": "11064bb6",
   "metadata": {},
   "outputs": [
    {
     "data": {
      "text/html": [
       "<div>\n",
       "<style scoped>\n",
       "    .dataframe tbody tr th:only-of-type {\n",
       "        vertical-align: middle;\n",
       "    }\n",
       "\n",
       "    .dataframe tbody tr th {\n",
       "        vertical-align: top;\n",
       "    }\n",
       "\n",
       "    .dataframe thead th {\n",
       "        text-align: right;\n",
       "    }\n",
       "</style>\n",
       "<table border=\"1\" class=\"dataframe\">\n",
       "  <thead>\n",
       "    <tr style=\"text-align: right;\">\n",
       "      <th></th>\n",
       "    </tr>\n",
       "  </thead>\n",
       "  <tbody>\n",
       "  </tbody>\n",
       "</table>\n",
       "</div>"
      ],
      "text/plain": [
       "Empty DataFrame\n",
       "Columns: []\n",
       "Index: []"
      ]
     },
     "execution_count": 28,
     "metadata": {},
     "output_type": "execute_result"
    }
   ],
   "source": [
    "gg"
   ]
  },
  {
   "cell_type": "code",
   "execution_count": null,
   "id": "5440995c",
   "metadata": {},
   "outputs": [],
   "source": [
    "sym.fields"
   ]
  },
  {
   "cell_type": "code",
   "execution_count": null,
   "id": "77b25a17",
   "metadata": {},
   "outputs": [],
   "source": [
    "#q2 = 'search index=\"redteam_50k\" src_computer=* OR dst_computer=* | table src_computer dst_computer eventtype success_or_failure'"
   ]
  },
  {
   "cell_type": "code",
   "execution_count": 14,
   "id": "3483c0aa",
   "metadata": {},
   "outputs": [],
   "source": [
    "from graphistry.compute.ai.ai_prompts import Splunk"
   ]
  },
  {
   "cell_type": "code",
   "execution_count": 15,
   "id": "770bf9cf",
   "metadata": {},
   "outputs": [],
   "source": [
    "splunk = Splunk()"
   ]
  },
  {
   "cell_type": "code",
   "execution_count": 22,
   "id": "d004427a",
   "metadata": {},
   "outputs": [
    {
     "data": {
      "text/html": [
       "<div class=\"alert alert-success\" role=\"alert\">\n",
       "  index=wineventlog EventID=4624 OR EventID=4625 | eval count_events=1 | stats sum(count_events) as total_events | eval anomaly_threshold=total_events*0.01 | eval anomaly_threshold_lower=total_events-anomaly_threshold | eval anomaly_threshold_upper=total_events+anomaly_threshold | where count_events<anomaly_threshold_lower OR count_events>anomaly_threshold_upper | table _time, EventID, count_events, anomaly_threshold\n",
       "</div>"
      ],
      "text/plain": [
       "<class 'symai.symbol.Symbol'>(value=index=wineventlog EventID=4624 OR EventID=4625 | eval count_events=1 | stats sum(count_events) as total_events | eval anomaly_threshold=total_events*0.01 | eval anomaly_threshold_lower=total_events-anomaly_threshold | eval anomaly_threshold_upper=total_events+anomaly_threshold | where count_events<anomaly_threshold_lower OR count_events>anomaly_threshold_upper | table _time, EventID, count_events, anomaly_threshold)"
      ]
     },
     "execution_count": 22,
     "metadata": {},
     "output_type": "execute_result"
    }
   ],
   "source": [
    "splunk.query('write a splunk query to detect anomalous winlogs events')"
   ]
  },
  {
   "cell_type": "code",
   "execution_count": null,
   "id": "19786f28",
   "metadata": {},
   "outputs": [],
   "source": []
  }
 ],
 "metadata": {
  "kernelspec": {
   "display_name": "Python 3",
   "language": "python",
   "name": "python3"
  },
  "language_info": {
   "codemirror_mode": {
    "name": "ipython",
    "version": 3
   },
   "file_extension": ".py",
   "mimetype": "text/x-python",
   "name": "python",
   "nbconvert_exporter": "python",
   "pygments_lexer": "ipython3",
   "version": "3.8.16"
  },
  "vscode": {
   "interpreter": {
    "hash": "b0fa6594d8f4cbf19f97940f81e996739fb7646882a419484c72d19e05852a7e"
   }
  }
 },
 "nbformat": 4,
 "nbformat_minor": 5
}
