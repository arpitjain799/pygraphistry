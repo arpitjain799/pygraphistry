{
 "cells": [
  {
   "cell_type": "code",
   "execution_count": 1,
   "id": "dd14a2c7",
   "metadata": {},
   "outputs": [],
   "source": [
    "import sys\n",
    "sys.path.append('/Users/exrhizo/Projects/graphistry/pygraphistry')"
   ]
  },
  {
   "cell_type": "code",
   "execution_count": null,
   "id": "3d8e6154",
   "metadata": {},
   "outputs": [],
   "source": [
    "from graphistry.plugins.splunkconn import GraphistryAdminSplunk\n",
    "conn = GraphistryAdminSplunk()"
   ]
  },
  {
   "cell_type": "code",
   "execution_count": 2,
   "id": "e6499ffc",
   "metadata": {},
   "outputs": [
    {
     "ename": "KeyError",
     "evalue": "'USERNAME'",
     "output_type": "error",
     "traceback": [
      "\u001b[0;31m---------------------------------------------------------------------------\u001b[0m",
      "\u001b[0;31mKeyError\u001b[0m                                  Traceback (most recent call last)",
      "Cell \u001b[0;32mIn[2], line 9\u001b[0m\n\u001b[1;32m      6\u001b[0m \u001b[39mimport\u001b[39;00m \u001b[39mpandas\u001b[39;00m \u001b[39mas\u001b[39;00m \u001b[39mpd\u001b[39;00m\n\u001b[1;32m      7\u001b[0m \u001b[39mimport\u001b[39;00m \u001b[39mos\u001b[39;00m\n\u001b[0;32m----> 9\u001b[0m graphistry\u001b[39m.\u001b[39mregister(api\u001b[39m=\u001b[39m\u001b[39m3\u001b[39m, protocol\u001b[39m=\u001b[39m\u001b[39m\"\u001b[39m\u001b[39mhttps\u001b[39m\u001b[39m\"\u001b[39m, server\u001b[39m=\u001b[39m\u001b[39m\"\u001b[39m\u001b[39mhub.graphistry.com\u001b[39m\u001b[39m\"\u001b[39m, username\u001b[39m=\u001b[39mos\u001b[39m.\u001b[39;49menviron[\u001b[39m'\u001b[39;49m\u001b[39mUSERNAME\u001b[39;49m\u001b[39m'\u001b[39;49m], password\u001b[39m=\u001b[39mos\u001b[39m.\u001b[39menviron[\u001b[39m'\u001b[39m\u001b[39mGRAPHISTRY_PASSWORD\u001b[39m\u001b[39m'\u001b[39m]) \n",
      "File \u001b[0;32m~/miniconda3/envs/pygraph/lib/python3.8/os.py:675\u001b[0m, in \u001b[0;36m_Environ.__getitem__\u001b[0;34m(self, key)\u001b[0m\n\u001b[1;32m    672\u001b[0m     value \u001b[39m=\u001b[39m \u001b[39mself\u001b[39m\u001b[39m.\u001b[39m_data[\u001b[39mself\u001b[39m\u001b[39m.\u001b[39mencodekey(key)]\n\u001b[1;32m    673\u001b[0m \u001b[39mexcept\u001b[39;00m \u001b[39mKeyError\u001b[39;00m:\n\u001b[1;32m    674\u001b[0m     \u001b[39m# raise KeyError with the original key value\u001b[39;00m\n\u001b[0;32m--> 675\u001b[0m     \u001b[39mraise\u001b[39;00m \u001b[39mKeyError\u001b[39;00m(key) \u001b[39mfrom\u001b[39;00m \u001b[39mNone\u001b[39m\n\u001b[1;32m    676\u001b[0m \u001b[39mreturn\u001b[39;00m \u001b[39mself\u001b[39m\u001b[39m.\u001b[39mdecodevalue(value)\n",
      "\u001b[0;31mKeyError\u001b[0m: 'USERNAME'"
     ]
    }
   ],
   "source": [
    "\n",
    "import numpy as np\n",
    "import graphistry\n",
    "#from graphistry.compute.chat_utils import *\n",
    "from graphistry.compute.ai.symbolic import *\n",
    "\n",
    "import pandas as pd\n",
    "import os\n",
    "\n",
    "graphistry.register(api=3, protocol=\"https\", server=\"hub.graphistry.com\", username=os.environ['USERNAME'], password=os.environ['GRAPHISTRY_PASSWORD']) "
   ]
  },
  {
   "cell_type": "code",
   "execution_count": null,
   "id": "741f90c3",
   "metadata": {},
   "outputs": [],
   "source": [
    "query = 'write a splunk query for the index `redteam_50k` that uses the src and dst information \\\n",
    "to output a table for events where red=1'"
   ]
  },
  {
   "cell_type": "code",
   "execution_count": null,
   "id": "24d92fa5",
   "metadata": {},
   "outputs": [],
   "source": [
    "query2 = 'write a splunk query that uses the src and dst information \\\n",
    "to output a table for events and \\\n",
    "include any fields similar to time and place if they exist in the data'"
   ]
  },
  {
   "cell_type": "code",
   "execution_count": null,
   "id": "05b11509",
   "metadata": {},
   "outputs": [],
   "source": [
    "query3 = 'write a splunk query that uses the src and dst information \\\n",
    "to output a table for events where auth_type is equal to Kerberos'"
   ]
  },
  {
   "cell_type": "code",
   "execution_count": null,
   "id": "e0a32307",
   "metadata": {},
   "outputs": [],
   "source": [
    "g = graphistry.bind()\n",
    "# query to graph \n",
    "g2 = g.ai(query)"
   ]
  },
  {
   "cell_type": "code",
   "execution_count": null,
   "id": "b99faa4d",
   "metadata": {
    "scrolled": false
   },
   "outputs": [],
   "source": [
    "g2.plot()  # all red events"
   ]
  },
  {
   "cell_type": "code",
   "execution_count": null,
   "id": "372b50dd",
   "metadata": {},
   "outputs": [],
   "source": []
  },
  {
   "cell_type": "code",
   "execution_count": null,
   "id": "33620185",
   "metadata": {},
   "outputs": [],
   "source": [
    "## query 2"
   ]
  },
  {
   "cell_type": "code",
   "execution_count": null,
   "id": "852913ee",
   "metadata": {},
   "outputs": [],
   "source": [
    "g.ai(query2).plot()"
   ]
  },
  {
   "cell_type": "code",
   "execution_count": null,
   "id": "f9cf9672",
   "metadata": {},
   "outputs": [],
   "source": [
    "#g.ai(query3).plot()"
   ]
  },
  {
   "cell_type": "markdown",
   "id": "d8dc6630",
   "metadata": {},
   "source": [
    "## Check to see that it understands the difference between splunk and normal queries"
   ]
  },
  {
   "cell_type": "code",
   "execution_count": null,
   "id": "d25a38f0",
   "metadata": {},
   "outputs": [],
   "source": [
    "g3 = g.ai('What is the capital of Norway?')"
   ]
  },
  {
   "cell_type": "code",
   "execution_count": null,
   "id": "5bc47acc",
   "metadata": {},
   "outputs": [],
   "source": [
    "g3"
   ]
  },
  {
   "cell_type": "markdown",
   "id": "1abb2ed1",
   "metadata": {},
   "source": [
    "## Getting into the details"
   ]
  },
  {
   "cell_type": "code",
   "execution_count": null,
   "id": "873c1dcc",
   "metadata": {},
   "outputs": [],
   "source": [
    "sym = SplunkAIGraph('redteam_50k')\n",
    "sym"
   ]
  },
  {
   "cell_type": "code",
   "execution_count": null,
   "id": "65c5ddf6",
   "metadata": {},
   "outputs": [],
   "source": [
    "sym.splunk_search(query)"
   ]
  },
  {
   "cell_type": "code",
   "execution_count": null,
   "id": "0840901a",
   "metadata": {},
   "outputs": [],
   "source": [
    "sym.get_context('trump', all_indexes=True)"
   ]
  },
  {
   "cell_type": "code",
   "execution_count": null,
   "id": "27e6df00",
   "metadata": {},
   "outputs": [],
   "source": [
    "sym._splunk_context"
   ]
  },
  {
   "cell_type": "code",
   "execution_count": null,
   "id": "51a76073",
   "metadata": {},
   "outputs": [],
   "source": [
    "sym._static_context"
   ]
  },
  {
   "cell_type": "code",
   "execution_count": null,
   "id": "724bce4d",
   "metadata": {},
   "outputs": [],
   "source": [
    "sym.splunk._static_context"
   ]
  },
  {
   "cell_type": "code",
   "execution_count": null,
   "id": "5db87f28",
   "metadata": {},
   "outputs": [],
   "source": [
    "sym.index"
   ]
  },
  {
   "cell_type": "code",
   "execution_count": null,
   "id": "266d1b01",
   "metadata": {},
   "outputs": [],
   "source": [
    "list(sym.indexes.keys())"
   ]
  },
  {
   "cell_type": "markdown",
   "id": "50d3bff9",
   "metadata": {},
   "source": [
    "# Add a straight splunk query\n",
    "It will reason about the input, as shown below"
   ]
  },
  {
   "cell_type": "code",
   "execution_count": null,
   "id": "deacb420",
   "metadata": {},
   "outputs": [],
   "source": [
    "sym.splunk_search('| search index=\"redteam_50k\" | Table src_computer, dst_computer')"
   ]
  },
  {
   "cell_type": "code",
   "execution_count": null,
   "id": "5440995c",
   "metadata": {},
   "outputs": [],
   "source": [
    "sym.fields"
   ]
  },
  {
   "cell_type": "code",
   "execution_count": null,
   "id": "77b25a17",
   "metadata": {},
   "outputs": [],
   "source": [
    "#q2 = 'search index=\"redteam_50k\" src_computer=* OR dst_computer=* | table src_computer dst_computer eventtype success_or_failure'"
   ]
  },
  {
   "cell_type": "code",
   "execution_count": null,
   "id": "3483c0aa",
   "metadata": {},
   "outputs": [],
   "source": [
    "from graphistry.compute.ai.ai_prompts import Splunk"
   ]
  },
  {
   "cell_type": "code",
   "execution_count": null,
   "id": "770bf9cf",
   "metadata": {},
   "outputs": [],
   "source": [
    "splunk = Splunk()"
   ]
  },
  {
   "cell_type": "code",
   "execution_count": null,
   "id": "d004427a",
   "metadata": {},
   "outputs": [],
   "source": [
    "splunk.query('write a splunk query to detect anomalous winlogs events')"
   ]
  },
  {
   "cell_type": "code",
   "execution_count": null,
   "id": "19786f28",
   "metadata": {},
   "outputs": [],
   "source": []
  }
 ],
 "metadata": {
  "kernelspec": {
   "display_name": "Python 3",
   "language": "python",
   "name": "python3"
  },
  "language_info": {
   "codemirror_mode": {
    "name": "ipython",
    "version": 3
   },
   "file_extension": ".py",
   "mimetype": "text/x-python",
   "name": "python",
   "nbconvert_exporter": "python",
   "pygments_lexer": "ipython3",
   "version": "3.8.16"
  },
  "vscode": {
   "interpreter": {
    "hash": "b0fa6594d8f4cbf19f97940f81e996739fb7646882a419484c72d19e05852a7e"
   }
  }
 },
 "nbformat": 4,
 "nbformat_minor": 5
}
